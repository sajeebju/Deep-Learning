{
  "nbformat": 4,
  "nbformat_minor": 0,
  "metadata": {
    "colab": {
      "name": "LeNet.ipynb",
      "provenance": [],
      "collapsed_sections": [],
      "authorship_tag": "ABX9TyMVlcGXMhfuivJomFsKo2VD",
      "include_colab_link": true
    },
    "kernelspec": {
      "name": "python3",
      "display_name": "Python 3"
    },
    "accelerator": "GPU"
  },
  "cells": [
    {
      "cell_type": "markdown",
      "metadata": {
        "id": "view-in-github",
        "colab_type": "text"
      },
      "source": [
        "<a href=\"https://colab.research.google.com/github/sajeebju/Deep-Learning/blob/main/LeNet-Mnist.ipynb\" target=\"_parent\"><img src=\"https://colab.research.google.com/assets/colab-badge.svg\" alt=\"Open In Colab\"/></a>"
      ]
    },
    {
      "cell_type": "code",
      "metadata": {
        "id": "2a-XCjlegnXD"
      },
      "source": [
        "import tensorflow as tf\n",
        "import matplotlib.pyplot as plt\n",
        "from tensorflow.keras import datasets, layers, models, losses "
      ],
      "execution_count": 2,
      "outputs": []
    },
    {
      "cell_type": "code",
      "metadata": {
        "colab": {
          "base_uri": "https://localhost:8080/"
        },
        "id": "HnVpk2RJhEVF",
        "outputId": "e9912570-9e4a-4401-9a4c-12cb28ccf987"
      },
      "source": [
        "(x_train, y_train), (x_test, y_test) = datasets.mnist.load_data()\n",
        "x_train.shape"
      ],
      "execution_count": 11,
      "outputs": [
        {
          "output_type": "execute_result",
          "data": {
            "text/plain": [
              "(60000, 28, 28)"
            ]
          },
          "metadata": {
            "tags": []
          },
          "execution_count": 11
        }
      ]
    },
    {
      "cell_type": "code",
      "metadata": {
        "colab": {
          "base_uri": "https://localhost:8080/"
        },
        "id": "PzmwSRC2hXcb",
        "outputId": "94ea5484-b83b-46a2-d196-77af95ed222c"
      },
      "source": [
        "x_train = tf.pad(x_train, [[0, 0], [2,2], [2,2]])/255\n",
        "x_test = tf.pad(x_test, [[0, 0], [2,2], [2,2]])/255\n",
        "x_train.shape"
      ],
      "execution_count": 12,
      "outputs": [
        {
          "output_type": "execute_result",
          "data": {
            "text/plain": [
              "TensorShape([60000, 32, 32])"
            ]
          },
          "metadata": {
            "tags": []
          },
          "execution_count": 12
        }
      ]
    },
    {
      "cell_type": "code",
      "metadata": {
        "colab": {
          "base_uri": "https://localhost:8080/"
        },
        "id": "oCwedE7oinhn",
        "outputId": "812fe84e-6d3e-4c05-93fe-17b260b661a6"
      },
      "source": [
        "x_train[0]"
      ],
      "execution_count": 13,
      "outputs": [
        {
          "output_type": "execute_result",
          "data": {
            "text/plain": [
              "<tf.Tensor: shape=(32, 32), dtype=float32, numpy=\n",
              "array([[0., 0., 0., ..., 0., 0., 0.],\n",
              "       [0., 0., 0., ..., 0., 0., 0.],\n",
              "       [0., 0., 0., ..., 0., 0., 0.],\n",
              "       ...,\n",
              "       [0., 0., 0., ..., 0., 0., 0.],\n",
              "       [0., 0., 0., ..., 0., 0., 0.],\n",
              "       [0., 0., 0., ..., 0., 0., 0.]], dtype=float32)>"
            ]
          },
          "metadata": {
            "tags": []
          },
          "execution_count": 13
        }
      ]
    },
    {
      "cell_type": "code",
      "metadata": {
        "colab": {
          "base_uri": "https://localhost:8080/"
        },
        "id": "tr41w_VNiq0b",
        "outputId": "372ba605-d5ce-4a29-b4a5-4cb6d2fa9aa8"
      },
      "source": [
        "x_train = tf.expand_dims(x_train, axis = 3, name = None)\n",
        "x_test = tf.expand_dims(x_test, axis = 3, name = None)\n",
        "\n",
        "x_train.shape"
      ],
      "execution_count": 14,
      "outputs": [
        {
          "output_type": "execute_result",
          "data": {
            "text/plain": [
              "TensorShape([60000, 32, 32, 1])"
            ]
          },
          "metadata": {
            "tags": []
          },
          "execution_count": 14
        }
      ]
    },
    {
      "cell_type": "code",
      "metadata": {
        "id": "0efKpHlcixlj"
      },
      "source": [
        "x_val = x_train[-2000:, :, :, :]\n",
        "y_val = y_train[-2000:]\n",
        "x_train = x_train[:-2000, :, :, :]\n",
        "y_train = y_train[:-2000]"
      ],
      "execution_count": 15,
      "outputs": []
    },
    {
      "cell_type": "code",
      "metadata": {
        "colab": {
          "base_uri": "https://localhost:8080/"
        },
        "id": "cnWZ8jaMmiGs",
        "outputId": "3f193f54-1c08-4d77-89ff-0713c0f7b744"
      },
      "source": [
        "x_train.shape[1:]"
      ],
      "execution_count": 16,
      "outputs": [
        {
          "output_type": "execute_result",
          "data": {
            "text/plain": [
              "TensorShape([32, 32, 1])"
            ]
          },
          "metadata": {
            "tags": []
          },
          "execution_count": 16
        }
      ]
    },
    {
      "cell_type": "code",
      "metadata": {
        "id": "hg7eNnMwBJEx"
      },
      "source": [
        ""
      ],
      "execution_count": null,
      "outputs": []
    },
    {
      "cell_type": "markdown",
      "metadata": {
        "id": "crHx7GbdBJuC"
      },
      "source": [
        "Convolutional Model"
      ]
    },
    {
      "cell_type": "code",
      "metadata": {
        "colab": {
          "base_uri": "https://localhost:8080/"
        },
        "id": "NPmvRBQQsHSJ",
        "outputId": "1fea9d5d-3afa-469d-d353-989daf44db3f"
      },
      "source": [
        "model = models.Sequential()\n",
        "model.add(layers.Conv2D(6, 5, activation = 'tanh', input_shape = x_train.shape[1:]))\n",
        "model.add(layers.AveragePooling2D(2))\n",
        "model.add(layers.Activation('sigmoid'))\n",
        "model.add(layers.Conv2D(16, 5, activation = 'tanh'))\n",
        "model.add(layers.AveragePooling2D(2))\n",
        "model.add(layers.Activation('sigmoid'))\n",
        "model.add(layers.Conv2D(120, 5, activation = 'tanh'))\n",
        "\n",
        "model.add(layers.Flatten())\n",
        "model.add(layers.Dense(84, activation = 'tanh'))\n",
        "model.add(layers.Dense(10, activation = 'softmax'))\n",
        "model.summary()"
      ],
      "execution_count": 18,
      "outputs": [
        {
          "output_type": "stream",
          "text": [
            "Model: \"sequential_1\"\n",
            "_________________________________________________________________\n",
            "Layer (type)                 Output Shape              Param #   \n",
            "=================================================================\n",
            "conv2d (Conv2D)              (None, 28, 28, 6)         156       \n",
            "_________________________________________________________________\n",
            "average_pooling2d (AveragePo (None, 14, 14, 6)         0         \n",
            "_________________________________________________________________\n",
            "activation (Activation)      (None, 14, 14, 6)         0         \n",
            "_________________________________________________________________\n",
            "conv2d_1 (Conv2D)            (None, 10, 10, 16)        2416      \n",
            "_________________________________________________________________\n",
            "average_pooling2d_1 (Average (None, 5, 5, 16)          0         \n",
            "_________________________________________________________________\n",
            "activation_1 (Activation)    (None, 5, 5, 16)          0         \n",
            "_________________________________________________________________\n",
            "conv2d_2 (Conv2D)            (None, 1, 1, 120)         48120     \n",
            "_________________________________________________________________\n",
            "flatten (Flatten)            (None, 120)               0         \n",
            "_________________________________________________________________\n",
            "dense (Dense)                (None, 84)                10164     \n",
            "_________________________________________________________________\n",
            "dense_1 (Dense)              (None, 10)                850       \n",
            "=================================================================\n",
            "Total params: 61,706\n",
            "Trainable params: 61,706\n",
            "Non-trainable params: 0\n",
            "_________________________________________________________________\n"
          ],
          "name": "stdout"
        }
      ]
    },
    {
      "cell_type": "code",
      "metadata": {
        "colab": {
          "base_uri": "https://localhost:8080/"
        },
        "id": "3GmBN78RxWbX",
        "outputId": "f11f50e0-bc0b-49a0-a76c-c3dee2aae8b9"
      },
      "source": [
        "model.compile(optimizer='adam', loss=losses.sparse_categorical_crossentropy, metrics=['accuracy'])\n",
        "history = model.fit(x_train, y_train, batch_size=64, epochs=40, validation_data=(x_val, y_val))"
      ],
      "execution_count": 19,
      "outputs": [
        {
          "output_type": "stream",
          "text": [
            "Epoch 1/40\n",
            "907/907 [==============================] - 9s 3ms/step - loss: 2.0144 - accuracy: 0.2491 - val_loss: 0.3068 - val_accuracy: 0.9160\n",
            "Epoch 2/40\n",
            "907/907 [==============================] - 2s 3ms/step - loss: 0.3935 - accuracy: 0.8782 - val_loss: 0.1872 - val_accuracy: 0.9500\n",
            "Epoch 3/40\n",
            "907/907 [==============================] - 2s 3ms/step - loss: 0.2863 - accuracy: 0.9099 - val_loss: 0.1689 - val_accuracy: 0.9475\n",
            "Epoch 4/40\n",
            "907/907 [==============================] - 2s 3ms/step - loss: 0.2284 - accuracy: 0.9265 - val_loss: 0.1837 - val_accuracy: 0.9430\n",
            "Epoch 5/40\n",
            "907/907 [==============================] - 2s 3ms/step - loss: 0.1937 - accuracy: 0.9387 - val_loss: 0.1217 - val_accuracy: 0.9645\n",
            "Epoch 6/40\n",
            "907/907 [==============================] - 2s 3ms/step - loss: 0.1639 - accuracy: 0.9484 - val_loss: 0.1275 - val_accuracy: 0.9635\n",
            "Epoch 7/40\n",
            "907/907 [==============================] - 2s 3ms/step - loss: 0.1455 - accuracy: 0.9545 - val_loss: 0.0973 - val_accuracy: 0.9740\n",
            "Epoch 8/40\n",
            "907/907 [==============================] - 2s 3ms/step - loss: 0.1371 - accuracy: 0.9573 - val_loss: 0.0974 - val_accuracy: 0.9750\n",
            "Epoch 9/40\n",
            "907/907 [==============================] - 2s 3ms/step - loss: 0.1217 - accuracy: 0.9609 - val_loss: 0.0839 - val_accuracy: 0.9765\n",
            "Epoch 10/40\n",
            "907/907 [==============================] - 2s 3ms/step - loss: 0.1152 - accuracy: 0.9631 - val_loss: 0.0683 - val_accuracy: 0.9840\n",
            "Epoch 11/40\n",
            "907/907 [==============================] - 2s 3ms/step - loss: 0.0995 - accuracy: 0.9676 - val_loss: 0.0703 - val_accuracy: 0.9800\n",
            "Epoch 12/40\n",
            "907/907 [==============================] - 3s 3ms/step - loss: 0.1018 - accuracy: 0.9678 - val_loss: 0.0587 - val_accuracy: 0.9830\n",
            "Epoch 13/40\n",
            "907/907 [==============================] - 2s 3ms/step - loss: 0.0910 - accuracy: 0.9716 - val_loss: 0.0763 - val_accuracy: 0.9765\n",
            "Epoch 14/40\n",
            "907/907 [==============================] - 3s 3ms/step - loss: 0.0900 - accuracy: 0.9707 - val_loss: 0.0606 - val_accuracy: 0.9835\n",
            "Epoch 15/40\n",
            "907/907 [==============================] - 3s 3ms/step - loss: 0.0840 - accuracy: 0.9739 - val_loss: 0.0582 - val_accuracy: 0.9845\n",
            "Epoch 16/40\n",
            "907/907 [==============================] - 3s 3ms/step - loss: 0.0847 - accuracy: 0.9732 - val_loss: 0.0514 - val_accuracy: 0.9870\n",
            "Epoch 17/40\n",
            "907/907 [==============================] - 2s 3ms/step - loss: 0.0736 - accuracy: 0.9770 - val_loss: 0.0712 - val_accuracy: 0.9790\n",
            "Epoch 18/40\n",
            "907/907 [==============================] - 2s 3ms/step - loss: 0.0781 - accuracy: 0.9751 - val_loss: 0.0699 - val_accuracy: 0.9830\n",
            "Epoch 19/40\n",
            "907/907 [==============================] - 2s 3ms/step - loss: 0.0732 - accuracy: 0.9764 - val_loss: 0.0497 - val_accuracy: 0.9870\n",
            "Epoch 20/40\n",
            "907/907 [==============================] - 2s 3ms/step - loss: 0.0686 - accuracy: 0.9779 - val_loss: 0.0801 - val_accuracy: 0.9795\n",
            "Epoch 21/40\n",
            "907/907 [==============================] - 2s 3ms/step - loss: 0.0657 - accuracy: 0.9791 - val_loss: 0.0511 - val_accuracy: 0.9870\n",
            "Epoch 22/40\n",
            "907/907 [==============================] - 2s 3ms/step - loss: 0.0648 - accuracy: 0.9784 - val_loss: 0.0557 - val_accuracy: 0.9865\n",
            "Epoch 23/40\n",
            "907/907 [==============================] - 2s 3ms/step - loss: 0.0657 - accuracy: 0.9778 - val_loss: 0.0514 - val_accuracy: 0.9865\n",
            "Epoch 24/40\n",
            "907/907 [==============================] - 2s 3ms/step - loss: 0.0631 - accuracy: 0.9791 - val_loss: 0.0587 - val_accuracy: 0.9840\n",
            "Epoch 25/40\n",
            "907/907 [==============================] - 2s 3ms/step - loss: 0.0625 - accuracy: 0.9799 - val_loss: 0.0461 - val_accuracy: 0.9895\n",
            "Epoch 26/40\n",
            "907/907 [==============================] - 2s 3ms/step - loss: 0.0591 - accuracy: 0.9802 - val_loss: 0.0574 - val_accuracy: 0.9835\n",
            "Epoch 27/40\n",
            "907/907 [==============================] - 3s 3ms/step - loss: 0.0566 - accuracy: 0.9815 - val_loss: 0.0448 - val_accuracy: 0.9890\n",
            "Epoch 28/40\n",
            "907/907 [==============================] - 3s 3ms/step - loss: 0.0565 - accuracy: 0.9814 - val_loss: 0.0572 - val_accuracy: 0.9870\n",
            "Epoch 29/40\n",
            "907/907 [==============================] - 3s 3ms/step - loss: 0.0576 - accuracy: 0.9814 - val_loss: 0.0456 - val_accuracy: 0.9895\n",
            "Epoch 30/40\n",
            "907/907 [==============================] - 2s 3ms/step - loss: 0.0546 - accuracy: 0.9826 - val_loss: 0.0583 - val_accuracy: 0.9835\n",
            "Epoch 31/40\n",
            "907/907 [==============================] - 2s 3ms/step - loss: 0.0552 - accuracy: 0.9818 - val_loss: 0.0546 - val_accuracy: 0.9865\n",
            "Epoch 32/40\n",
            "907/907 [==============================] - 3s 3ms/step - loss: 0.0507 - accuracy: 0.9835 - val_loss: 0.0436 - val_accuracy: 0.9900\n",
            "Epoch 33/40\n",
            "907/907 [==============================] - 3s 3ms/step - loss: 0.0511 - accuracy: 0.9836 - val_loss: 0.0557 - val_accuracy: 0.9860\n",
            "Epoch 34/40\n",
            "907/907 [==============================] - 3s 3ms/step - loss: 0.0582 - accuracy: 0.9816 - val_loss: 0.0438 - val_accuracy: 0.9900\n",
            "Epoch 35/40\n",
            "907/907 [==============================] - 3s 3ms/step - loss: 0.0490 - accuracy: 0.9845 - val_loss: 0.0435 - val_accuracy: 0.9890\n",
            "Epoch 36/40\n",
            "907/907 [==============================] - 3s 3ms/step - loss: 0.0493 - accuracy: 0.9842 - val_loss: 0.0594 - val_accuracy: 0.9840\n",
            "Epoch 37/40\n",
            "907/907 [==============================] - 3s 3ms/step - loss: 0.0457 - accuracy: 0.9854 - val_loss: 0.0466 - val_accuracy: 0.9885\n",
            "Epoch 38/40\n",
            "907/907 [==============================] - 3s 3ms/step - loss: 0.0467 - accuracy: 0.9856 - val_loss: 0.0398 - val_accuracy: 0.9895\n",
            "Epoch 39/40\n",
            "907/907 [==============================] - 3s 3ms/step - loss: 0.0468 - accuracy: 0.9845 - val_loss: 0.0471 - val_accuracy: 0.9905\n",
            "Epoch 40/40\n",
            "907/907 [==============================] - 3s 3ms/step - loss: 0.0444 - accuracy: 0.9852 - val_loss: 0.0490 - val_accuracy: 0.9850\n"
          ],
          "name": "stdout"
        }
      ]
    },
    {
      "cell_type": "code",
      "metadata": {
        "id": "usbA6Yy0BTzT"
      },
      "source": [
        ""
      ],
      "execution_count": null,
      "outputs": []
    },
    {
      "cell_type": "markdown",
      "metadata": {
        "id": "BJslN4f4BUaY"
      },
      "source": [
        "Losses and accuracies for training and validation sets are stored in history object and plotted using Matplotlib library."
      ]
    },
    {
      "cell_type": "code",
      "metadata": {
        "colab": {
          "base_uri": "https://localhost:8080/",
          "height": 897
        },
        "id": "cboy6EgrzIbv",
        "outputId": "5fbf12c3-1384-4f20-cf3e-8fddc21251be"
      },
      "source": [
        "fig, axs = plt.subplots(2, 1, figsize=(15,15))\n",
        "axs[0].plot(history.history['loss'])\n",
        "axs[0].plot(history.history['val_loss'])\n",
        "axs[0].title.set_text('Training Loss vs Validation Loss')\n",
        "axs[0].legend(['Train', 'Val'])\n",
        "axs[1].plot(history.history['accuracy'])\n",
        "axs[1].plot(history.history['val_accuracy'])\n",
        "axs[1].title.set_text('Training Accuracy vs Validation Accuracy')\n",
        "axs[1].legend(['Train', 'Val'])"
      ],
      "execution_count": 20,
      "outputs": [
        {
          "output_type": "execute_result",
          "data": {
            "text/plain": [
              "<matplotlib.legend.Legend at 0x7f2c39601ef0>"
            ]
          },
          "metadata": {
            "tags": []
          },
          "execution_count": 20
        },
        {
          "output_type": "display_data",
          "data": {
            "image/png": "[encoded data removed]",
            "text/plain": [
              "<Figure size 1080x1080 with 2 Axes>"
            ]
          },
          "metadata": {
            "tags": [],
            "needs_background": "light"
          }
        }
      ]
    },
    {
      "cell_type": "markdown",
      "metadata": {
        "id": "gjmOHZGRA9Pu"
      },
      "source": [
        "Testing accuracy of the model came out at 98.51%, which is pretty satisfactory for this simple task and reasonably slightly lower than training accuracy. The graph above and the testing accuracy indicates that the model is capable of learning the patterns of digit drawings and generalizable enough not to overfit."
      ]
    },
    {
      "cell_type": "code",
      "metadata": {
        "colab": {
          "base_uri": "https://localhost:8080/"
        },
        "id": "-4t4nXLO9ePY",
        "outputId": "71b59a7f-5c63-4c43-9504-63a4f2849042"
      },
      "source": [
        "model.evaluate(x_test, y_test)"
      ],
      "execution_count": 21,
      "outputs": [
        {
          "output_type": "stream",
          "text": [
            "313/313 [==============================] - 1s 2ms/step - loss: 0.0554 - accuracy: 0.9814\n"
          ],
          "name": "stdout"
        },
        {
          "output_type": "execute_result",
          "data": {
            "text/plain": [
              "[0.0553949698805809, 0.9814000129699707]"
            ]
          },
          "metadata": {
            "tags": []
          },
          "execution_count": 21
        }
      ]
    },
    {
      "cell_type": "code",
      "metadata": {
        "id": "Rx5c2cS1Ar2N"
      },
      "source": [
        ""
      ],
      "execution_count": null,
      "outputs": []
    }
  ]
}